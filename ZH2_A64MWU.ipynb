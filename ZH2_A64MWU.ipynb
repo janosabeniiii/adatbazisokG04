{
    "metadata": {
        "kernelspec": {
            "name": "SQL",
            "display_name": "SQL",
            "language": "sql"
        },
        "language_info": {
            "name": "sql",
            "version": ""
        }
    },
    "nbformat_minor": 2,
    "nbformat": 4,
    "cells": [
        {
            "cell_type": "code",
            "source": [
                "-- 1. feladat\r\n",
                "Select TIPUS,\r\n",
                "        HELY,\r\n",
                "        ROUND(AVG(CSILLAGOK_SZAMA),2)\r\n",
                "FROM Szallashely\r\n",
                "WHERE SZALLAS_NEV NOT LIKE '%-%'\r\n",
                "GROUP BY GROUPING SETS(TIPUS,HELY)"
            ],
            "metadata": {
                "azdata_cell_guid": "915b6623-2ba9-4a00-872f-3e31a58e7665",
                "language": "sql",
                "tags": []
            },
            "outputs": [
                {
                    "output_type": "display_data",
                    "data": {
                        "text/html": "(14 rows affected)"
                    },
                    "metadata": {}
                },
                {
                    "output_type": "display_data",
                    "data": {
                        "text/html": "Total execution time: 00:00:00.008"
                    },
                    "metadata": {}
                },
                {
                    "output_type": "execute_result",
                    "metadata": {},
                    "execution_count": 21,
                    "data": {
                        "application/vnd.dataresource+json": {
                            "schema": {
                                "fields": [
                                    {
                                        "name": "TIPUS"
                                    },
                                    {
                                        "name": "HELY"
                                    },
                                    {
                                        "name": "(No column name)"
                                    }
                                ]
                            },
                            "data": [
                                {
                                    "TIPUS": "NULL",
                                    "HELY": "Balaton-dél",
                                    "(No column name)": "2"
                                },
                                {
                                    "TIPUS": "NULL",
                                    "HELY": "Balaton-észak",
                                    "(No column name)": "0"
                                },
                                {
                                    "TIPUS": "NULL",
                                    "HELY": "Békés megye",
                                    "(No column name)": "3"
                                },
                                {
                                    "TIPUS": "NULL",
                                    "HELY": "Budapest",
                                    "(No column name)": "2"
                                },
                                {
                                    "TIPUS": "NULL",
                                    "HELY": "Csongrád megye",
                                    "(No column name)": "1"
                                },
                                {
                                    "TIPUS": "NULL",
                                    "HELY": "Dél-Somogy",
                                    "(No column name)": "0"
                                },
                                {
                                    "TIPUS": "NULL",
                                    "HELY": "Hajdúbihar megye",
                                    "(No column name)": "0"
                                },
                                {
                                    "TIPUS": "NULL",
                                    "HELY": "Pest megye",
                                    "(No column name)": "3"
                                },
                                {
                                    "TIPUS": "NULL",
                                    "HELY": "Tolna megye",
                                    "(No column name)": "4"
                                },
                                {
                                    "TIPUS": "Apartman",
                                    "HELY": "NULL",
                                    "(No column name)": "0"
                                },
                                {
                                    "TIPUS": "Diákszálló",
                                    "HELY": "NULL",
                                    "(No column name)": "0"
                                },
                                {
                                    "TIPUS": "Hotel",
                                    "HELY": "NULL",
                                    "(No column name)": "3"
                                },
                                {
                                    "TIPUS": "panzió",
                                    "HELY": "NULL",
                                    "(No column name)": "3"
                                },
                                {
                                    "TIPUS": "vendégház",
                                    "HELY": "NULL",
                                    "(No column name)": "0"
                                }
                            ]
                        },
                        "text/html": [
                            "<table>",
                            "<tr><th>TIPUS</th><th>HELY</th><th>(No column name)</th></tr>",
                            "<tr><td>NULL</td><td>Balaton-dél</td><td>2</td></tr>",
                            "<tr><td>NULL</td><td>Balaton-észak</td><td>0</td></tr>",
                            "<tr><td>NULL</td><td>Békés megye</td><td>3</td></tr>",
                            "<tr><td>NULL</td><td>Budapest</td><td>2</td></tr>",
                            "<tr><td>NULL</td><td>Csongrád megye</td><td>1</td></tr>",
                            "<tr><td>NULL</td><td>Dél-Somogy</td><td>0</td></tr>",
                            "<tr><td>NULL</td><td>Hajdúbihar megye</td><td>0</td></tr>",
                            "<tr><td>NULL</td><td>Pest megye</td><td>3</td></tr>",
                            "<tr><td>NULL</td><td>Tolna megye</td><td>4</td></tr>",
                            "<tr><td>Apartman</td><td>NULL</td><td>0</td></tr>",
                            "<tr><td>Diákszálló</td><td>NULL</td><td>0</td></tr>",
                            "<tr><td>Hotel</td><td>NULL</td><td>3</td></tr>",
                            "<tr><td>panzió</td><td>NULL</td><td>3</td></tr>",
                            "<tr><td>vendégház</td><td>NULL</td><td>0</td></tr>",
                            "</table>"
                        ]
                    }
                }
            ],
            "execution_count": 21
        },
        {
            "cell_type": "code",
            "source": [
                "-- 2. feladat\r\n",
                "\r\n",
                "SELECT DISTINCT v.NEV\r\n",
                "FROM Vendeg v JOIN Foglalas f on v.USERNEV = f.UGYFEL_FK\r\n",
                "WHERE NOT EXISTS (\r\n",
                "    SELECT *\r\n",
                "    FROM Foglalas f2\r\n",
                "    WHERE f2.UGYFEL_FK = f.UGYFEL_FK\r\n",
                ")\r\n",
                "\r\n",
                "UNION\r\n",
                "\r\n",
                "SELECT DISTINCT v.NEV\r\n",
                "FROM Vendeg v JOIN Foglalas f on v.USERNEV = f.UGYFEL_FK\r\n",
                "WHERE DATEDIFF(DAY,METTOL,MEDDIG) <= 2"
            ],
            "metadata": {
                "azdata_cell_guid": "1314e390-4ec5-4626-8071-db230f3aaf3f",
                "language": "sql"
            },
            "outputs": [
                {
                    "output_type": "display_data",
                    "data": {
                        "text/html": "(151 rows affected)"
                    },
                    "metadata": {}
                },
                {
                    "output_type": "display_data",
                    "data": {
                        "text/html": "Total execution time: 00:00:00.033"
                    },
                    "metadata": {}
                },
                {
                    "output_type": "execute_result",
                    "metadata": {},
                    "execution_count": 15,
                    "data": {
                        "application/vnd.dataresource+json": {
                            "schema": {
                                "fields": [
                                    {
                                        "name": "NEV"
                                    }
                                ]
                            },
                            "data": [
                                {
                                    "NEV": "Ambrus Dávid"
                                },
                                {
                                    "NEV": "Andor Ibolya"
                                },
                                {
                                    "NEV": "Back András"
                                },
                                {
                                    "NEV": "Bagi Beáta"
                                },
                                {
                                    "NEV": "Bagóczki Alexandra"
                                },
                                {
                                    "NEV": "Bajusz Bence"
                                },
                                {
                                    "NEV": "Bakó Klaudia"
                                },
                                {
                                    "NEV": "Bakódy Balázs"
                                },
                                {
                                    "NEV": "Balogh Eszter"
                                },
                                {
                                    "NEV": "Barabás Pál"
                                },
                                {
                                    "NEV": "Baráth Mária"
                                },
                                {
                                    "NEV": "Bárci Gusztáv"
                                },
                                {
                                    "NEV": "Barna Debóra"
                                },
                                {
                                    "NEV": "Barna Zoltán"
                                },
                                {
                                    "NEV": "Baróti Attila"
                                },
                                {
                                    "NEV": "Berendi Péter"
                                },
                                {
                                    "NEV": "Béres Norbert"
                                },
                                {
                                    "NEV": "Bieniek Ádám"
                                },
                                {
                                    "NEV": "Bíró Ákos"
                                },
                                {
                                    "NEV": "Bíró Péter"
                                },
                                {
                                    "NEV": "Bittmann Edit"
                                },
                                {
                                    "NEV": "Bodor Szabolcs"
                                },
                                {
                                    "NEV": "Bori Krisztina"
                                },
                                {
                                    "NEV": "Boros Vivien"
                                },
                                {
                                    "NEV": "Bosnyák Ilona"
                                },
                                {
                                    "NEV": "Bozsik Balázs"
                                },
                                {
                                    "NEV": "Bozsó Péter"
                                },
                                {
                                    "NEV": "Böröcz Anikó"
                                },
                                {
                                    "NEV": "Búza Imre"
                                },
                                {
                                    "NEV": "Czérna Krisztián"
                                },
                                {
                                    "NEV": "Csiger Bertalan"
                                },
                                {
                                    "NEV": "Dunai Aladár"
                                },
                                {
                                    "NEV": "Dusha Tímea"
                                },
                                {
                                    "NEV": "Endresz Bálint"
                                },
                                {
                                    "NEV": "Enyedi Éva"
                                },
                                {
                                    "NEV": "Erdei András"
                                },
                                {
                                    "NEV": "Érsek Eszter"
                                },
                                {
                                    "NEV": "Farkas Béla"
                                },
                                {
                                    "NEV": "Farkas Sándor"
                                },
                                {
                                    "NEV": "Farkas Sára"
                                },
                                {
                                    "NEV": "Fényes Tamás"
                                },
                                {
                                    "NEV": "Ferencz Roland"
                                },
                                {
                                    "NEV": "Foltényi Sebastián"
                                },
                                {
                                    "NEV": "Fő Nándor"
                                },
                                {
                                    "NEV": "Frank Fruzsina"
                                },
                                {
                                    "NEV": "Fülöp Eszter"
                                },
                                {
                                    "NEV": "Gergely József"
                                },
                                {
                                    "NEV": "Giliga János"
                                },
                                {
                                    "NEV": "Gondos Katalin"
                                },
                                {
                                    "NEV": "Gondos Miklós"
                                },
                                {
                                    "NEV": "Gulyás Attila"
                                },
                                {
                                    "NEV": "Gyárfás Krisztina"
                                },
                                {
                                    "NEV": "Győrffy Bence"
                                },
                                {
                                    "NEV": "Gyuris József"
                                },
                                {
                                    "NEV": "Harangozó János"
                                },
                                {
                                    "NEV": "Hartyánszky Ágnes"
                                },
                                {
                                    "NEV": "Hegedűs Norbert"
                                },
                                {
                                    "NEV": "Hídasi Judit"
                                },
                                {
                                    "NEV": "Horváth Ágnes"
                                },
                                {
                                    "NEV": "Horváth Árpád"
                                },
                                {
                                    "NEV": "Horváth Bálint"
                                },
                                {
                                    "NEV": "Horváth Katalin"
                                },
                                {
                                    "NEV": "Horváth Krisztina"
                                },
                                {
                                    "NEV": "Horváth Nikolett"
                                },
                                {
                                    "NEV": "Iván Róbert"
                                },
                                {
                                    "NEV": "Jakab Áron"
                                },
                                {
                                    "NEV": "Józsa Zsolt"
                                },
                                {
                                    "NEV": "Juhász Mihály"
                                },
                                {
                                    "NEV": "Kalacsi Márton"
                                },
                                {
                                    "NEV": "Karasz Sándor"
                                },
                                {
                                    "NEV": "Kardos Renáta"
                                },
                                {
                                    "NEV": "Kazy Tihamér"
                                },
                                {
                                    "NEV": "Kelemen Áron"
                                },
                                {
                                    "NEV": "Kerényi Beatrix"
                                },
                                {
                                    "NEV": "Keresztúri Viktor"
                                },
                                {
                                    "NEV": "Kertész Katalin"
                                },
                                {
                                    "NEV": "Keszler Dániel"
                                },
                                {
                                    "NEV": "Kiss Andrea"
                                },
                                {
                                    "NEV": "Kiss Lajos"
                                },
                                {
                                    "NEV": "Komjáti András"
                                },
                                {
                                    "NEV": "Kovács Ágnes"
                                },
                                {
                                    "NEV": "Kovács Bernadett"
                                },
                                {
                                    "NEV": "Kovács Katalin"
                                },
                                {
                                    "NEV": "Kő Nikoletta"
                                },
                                {
                                    "NEV": "Köves Gábor"
                                },
                                {
                                    "NEV": "Kuruc Emese"
                                },
                                {
                                    "NEV": "Lengyel Ágnes"
                                },
                                {
                                    "NEV": "Lukács Kornél"
                                },
                                {
                                    "NEV": "Maródi Andrea"
                                },
                                {
                                    "NEV": "Miklós Szabolcs"
                                },
                                {
                                    "NEV": "Mile Norbert"
                                },
                                {
                                    "NEV": "Mohos Mónika"
                                },
                                {
                                    "NEV": "Molnár András"
                                },
                                {
                                    "NEV": "Molnár Bálint"
                                },
                                {
                                    "NEV": "Molnár Zsófi"
                                },
                                {
                                    "NEV": "Móra László"
                                },
                                {
                                    "NEV": "Móricz Árpád"
                                },
                                {
                                    "NEV": "Nádudvari Henrik"
                                },
                                {
                                    "NEV": "Nagy Gabriella"
                                },
                                {
                                    "NEV": "Nagy László"
                                },
                                {
                                    "NEV": "Nagymihály Csongor"
                                },
                                {
                                    "NEV": "Nagymihály Lajos"
                                },
                                {
                                    "NEV": "Neizer Andrea"
                                },
                                {
                                    "NEV": "Orbán Bernadett"
                                },
                                {
                                    "NEV": "Orosz Ferenc"
                                },
                                {
                                    "NEV": "Oroszi György"
                                },
                                {
                                    "NEV": "Ötvös Árpád"
                                },
                                {
                                    "NEV": "Pálinkás János"
                                },
                                {
                                    "NEV": "Papós Tímea"
                                },
                                {
                                    "NEV": "Papp Imre"
                                },
                                {
                                    "NEV": "Perlinger Éva"
                                },
                                {
                                    "NEV": "Pintér Zoltán"
                                },
                                {
                                    "NEV": "Pivarcsi Anett"
                                },
                                {
                                    "NEV": "Pulai Zsolt"
                                },
                                {
                                    "NEV": "Pusztai Zsuzsanna"
                                },
                                {
                                    "NEV": "Rácz Dániel"
                                },
                                {
                                    "NEV": "Rácz Rajmond"
                                },
                                {
                                    "NEV": "Regős Annamária"
                                },
                                {
                                    "NEV": "Simon Anikó"
                                },
                                {
                                    "NEV": "Simon Bernadett"
                                },
                                {
                                    "NEV": "Sobják Dávid"
                                },
                                {
                                    "NEV": "Soós István"
                                },
                                {
                                    "NEV": "Szabó Julianna"
                                },
                                {
                                    "NEV": "Szalai Szilárd"
                                },
                                {
                                    "NEV": "Szedlár Krisztina"
                                },
                                {
                                    "NEV": "Székely Brigitta"
                                },
                                {
                                    "NEV": "Szekendi Beatrix"
                                },
                                {
                                    "NEV": "Szikszai Réka"
                                },
                                {
                                    "NEV": "Szilágyi Mátyás"
                                },
                                {
                                    "NEV": "Szomor Andrea"
                                },
                                {
                                    "NEV": "Szűcs Annamária"
                                },
                                {
                                    "NEV": "Szűcs Balázs"
                                },
                                {
                                    "NEV": "Szűcs Norbert"
                                },
                                {
                                    "NEV": "Tankó Veronika"
                                },
                                {
                                    "NEV": "Tari Szilvia"
                                },
                                {
                                    "NEV": "Tatár Nikoletta"
                                },
                                {
                                    "NEV": "Tornyos Andrea"
                                },
                                {
                                    "NEV": "Tóth András"
                                },
                                {
                                    "NEV": "Tóth Anikó"
                                },
                                {
                                    "NEV": "Tóth Júlia"
                                },
                                {
                                    "NEV": "Tóth Roland"
                                },
                                {
                                    "NEV": "Tóth Zoltán"
                                },
                                {
                                    "NEV": "Turcsik Tünde"
                                },
                                {
                                    "NEV": "Urbán Viktoria"
                                },
                                {
                                    "NEV": "Vajda Zsuzsa"
                                },
                                {
                                    "NEV": "Varga István"
                                },
                                {
                                    "NEV": "Varsányi Zsuzsa"
                                },
                                {
                                    "NEV": "Vígh András"
                                },
                                {
                                    "NEV": "Vörös Dániel"
                                },
                                {
                                    "NEV": "Vukasinovity Bálint"
                                },
                                {
                                    "NEV": "Zatykó Katalin"
                                }
                            ]
                        },
                        "text/html": [
                            "<table>",
                            "<tr><th>NEV</th></tr>",
                            "<tr><td>Ambrus Dávid</td></tr>",
                            "<tr><td>Andor Ibolya</td></tr>",
                            "<tr><td>Back András</td></tr>",
                            "<tr><td>Bagi Beáta</td></tr>",
                            "<tr><td>Bagóczki Alexandra</td></tr>",
                            "<tr><td>Bajusz Bence</td></tr>",
                            "<tr><td>Bakó Klaudia</td></tr>",
                            "<tr><td>Bakódy Balázs</td></tr>",
                            "<tr><td>Balogh Eszter</td></tr>",
                            "<tr><td>Barabás Pál</td></tr>",
                            "<tr><td>Baráth Mária</td></tr>",
                            "<tr><td>Bárci Gusztáv</td></tr>",
                            "<tr><td>Barna Debóra</td></tr>",
                            "<tr><td>Barna Zoltán</td></tr>",
                            "<tr><td>Baróti Attila</td></tr>",
                            "<tr><td>Berendi Péter</td></tr>",
                            "<tr><td>Béres Norbert</td></tr>",
                            "<tr><td>Bieniek Ádám</td></tr>",
                            "<tr><td>Bíró Ákos</td></tr>",
                            "<tr><td>Bíró Péter</td></tr>",
                            "<tr><td>Bittmann Edit</td></tr>",
                            "<tr><td>Bodor Szabolcs</td></tr>",
                            "<tr><td>Bori Krisztina</td></tr>",
                            "<tr><td>Boros Vivien</td></tr>",
                            "<tr><td>Bosnyák Ilona</td></tr>",
                            "<tr><td>Bozsik Balázs</td></tr>",
                            "<tr><td>Bozsó Péter</td></tr>",
                            "<tr><td>Böröcz Anikó</td></tr>",
                            "<tr><td>Búza Imre</td></tr>",
                            "<tr><td>Czérna Krisztián</td></tr>",
                            "<tr><td>Csiger Bertalan</td></tr>",
                            "<tr><td>Dunai Aladár</td></tr>",
                            "<tr><td>Dusha Tímea</td></tr>",
                            "<tr><td>Endresz Bálint</td></tr>",
                            "<tr><td>Enyedi Éva</td></tr>",
                            "<tr><td>Erdei András</td></tr>",
                            "<tr><td>Érsek Eszter</td></tr>",
                            "<tr><td>Farkas Béla</td></tr>",
                            "<tr><td>Farkas Sándor</td></tr>",
                            "<tr><td>Farkas Sára</td></tr>",
                            "<tr><td>Fényes Tamás</td></tr>",
                            "<tr><td>Ferencz Roland</td></tr>",
                            "<tr><td>Foltényi Sebastián</td></tr>",
                            "<tr><td>Fő Nándor</td></tr>",
                            "<tr><td>Frank Fruzsina</td></tr>",
                            "<tr><td>Fülöp Eszter</td></tr>",
                            "<tr><td>Gergely József</td></tr>",
                            "<tr><td>Giliga János</td></tr>",
                            "<tr><td>Gondos Katalin</td></tr>",
                            "<tr><td>Gondos Miklós</td></tr>",
                            "<tr><td>Gulyás Attila</td></tr>",
                            "<tr><td>Gyárfás Krisztina</td></tr>",
                            "<tr><td>Győrffy Bence</td></tr>",
                            "<tr><td>Gyuris József</td></tr>",
                            "<tr><td>Harangozó János</td></tr>",
                            "<tr><td>Hartyánszky Ágnes</td></tr>",
                            "<tr><td>Hegedűs Norbert</td></tr>",
                            "<tr><td>Hídasi Judit</td></tr>",
                            "<tr><td>Horváth Ágnes</td></tr>",
                            "<tr><td>Horváth Árpád</td></tr>",
                            "<tr><td>Horváth Bálint</td></tr>",
                            "<tr><td>Horváth Katalin</td></tr>",
                            "<tr><td>Horváth Krisztina</td></tr>",
                            "<tr><td>Horváth Nikolett</td></tr>",
                            "<tr><td>Iván Róbert</td></tr>",
                            "<tr><td>Jakab Áron</td></tr>",
                            "<tr><td>Józsa Zsolt</td></tr>",
                            "<tr><td>Juhász Mihály</td></tr>",
                            "<tr><td>Kalacsi Márton</td></tr>",
                            "<tr><td>Karasz Sándor</td></tr>",
                            "<tr><td>Kardos Renáta</td></tr>",
                            "<tr><td>Kazy Tihamér</td></tr>",
                            "<tr><td>Kelemen Áron</td></tr>",
                            "<tr><td>Kerényi Beatrix</td></tr>",
                            "<tr><td>Keresztúri Viktor</td></tr>",
                            "<tr><td>Kertész Katalin</td></tr>",
                            "<tr><td>Keszler Dániel</td></tr>",
                            "<tr><td>Kiss Andrea</td></tr>",
                            "<tr><td>Kiss Lajos</td></tr>",
                            "<tr><td>Komjáti András</td></tr>",
                            "<tr><td>Kovács Ágnes</td></tr>",
                            "<tr><td>Kovács Bernadett</td></tr>",
                            "<tr><td>Kovács Katalin</td></tr>",
                            "<tr><td>Kő Nikoletta</td></tr>",
                            "<tr><td>Köves Gábor</td></tr>",
                            "<tr><td>Kuruc Emese</td></tr>",
                            "<tr><td>Lengyel Ágnes</td></tr>",
                            "<tr><td>Lukács Kornél</td></tr>",
                            "<tr><td>Maródi Andrea</td></tr>",
                            "<tr><td>Miklós Szabolcs</td></tr>",
                            "<tr><td>Mile Norbert</td></tr>",
                            "<tr><td>Mohos Mónika</td></tr>",
                            "<tr><td>Molnár András</td></tr>",
                            "<tr><td>Molnár Bálint</td></tr>",
                            "<tr><td>Molnár Zsófi</td></tr>",
                            "<tr><td>Móra László</td></tr>",
                            "<tr><td>Móricz Árpád</td></tr>",
                            "<tr><td>Nádudvari Henrik</td></tr>",
                            "<tr><td>Nagy Gabriella</td></tr>",
                            "<tr><td>Nagy László</td></tr>",
                            "<tr><td>Nagymihály Csongor</td></tr>",
                            "<tr><td>Nagymihály Lajos</td></tr>",
                            "<tr><td>Neizer Andrea</td></tr>",
                            "<tr><td>Orbán Bernadett</td></tr>",
                            "<tr><td>Orosz Ferenc</td></tr>",
                            "<tr><td>Oroszi György</td></tr>",
                            "<tr><td>Ötvös Árpád</td></tr>",
                            "<tr><td>Pálinkás János</td></tr>",
                            "<tr><td>Papós Tímea</td></tr>",
                            "<tr><td>Papp Imre</td></tr>",
                            "<tr><td>Perlinger Éva</td></tr>",
                            "<tr><td>Pintér Zoltán</td></tr>",
                            "<tr><td>Pivarcsi Anett</td></tr>",
                            "<tr><td>Pulai Zsolt</td></tr>",
                            "<tr><td>Pusztai Zsuzsanna</td></tr>",
                            "<tr><td>Rácz Dániel</td></tr>",
                            "<tr><td>Rácz Rajmond</td></tr>",
                            "<tr><td>Regős Annamária</td></tr>",
                            "<tr><td>Simon Anikó</td></tr>",
                            "<tr><td>Simon Bernadett</td></tr>",
                            "<tr><td>Sobják Dávid</td></tr>",
                            "<tr><td>Soós István</td></tr>",
                            "<tr><td>Szabó Julianna</td></tr>",
                            "<tr><td>Szalai Szilárd</td></tr>",
                            "<tr><td>Szedlár Krisztina</td></tr>",
                            "<tr><td>Székely Brigitta</td></tr>",
                            "<tr><td>Szekendi Beatrix</td></tr>",
                            "<tr><td>Szikszai Réka</td></tr>",
                            "<tr><td>Szilágyi Mátyás</td></tr>",
                            "<tr><td>Szomor Andrea</td></tr>",
                            "<tr><td>Szűcs Annamária</td></tr>",
                            "<tr><td>Szűcs Balázs</td></tr>",
                            "<tr><td>Szűcs Norbert</td></tr>",
                            "<tr><td>Tankó Veronika</td></tr>",
                            "<tr><td>Tari Szilvia</td></tr>",
                            "<tr><td>Tatár Nikoletta</td></tr>",
                            "<tr><td>Tornyos Andrea</td></tr>",
                            "<tr><td>Tóth András</td></tr>",
                            "<tr><td>Tóth Anikó</td></tr>",
                            "<tr><td>Tóth Júlia</td></tr>",
                            "<tr><td>Tóth Roland</td></tr>",
                            "<tr><td>Tóth Zoltán</td></tr>",
                            "<tr><td>Turcsik Tünde</td></tr>",
                            "<tr><td>Urbán Viktoria</td></tr>",
                            "<tr><td>Vajda Zsuzsa</td></tr>",
                            "<tr><td>Varga István</td></tr>",
                            "<tr><td>Varsányi Zsuzsa</td></tr>",
                            "<tr><td>Vígh András</td></tr>",
                            "<tr><td>Vörös Dániel</td></tr>",
                            "<tr><td>Vukasinovity Bálint</td></tr>",
                            "<tr><td>Zatykó Katalin</td></tr>",
                            "</table>"
                        ]
                    }
                }
            ],
            "execution_count": 15
        }
    ]
}