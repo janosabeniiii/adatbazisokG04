{
    "metadata": {
        "kernelspec": {
            "name": "SQL",
            "display_name": "SQL",
            "language": "sql"
        },
        "language_info": {
            "name": "sql",
            "version": ""
        }
    },
    "nbformat_minor": 2,
    "nbformat": 4,
    "cells": [
        {
            "cell_type": "code",
            "source": [
                "--1. feladat megoldása\r\n",
                "SELECT SZOBA_FK as \"Szoba\", COUNT(FOGLALAS_PK) as \"Foglalások száma\"\r\n",
                "FROM Foglalas\r\n",
                "WHERE FELNOTT_SZAM > GYERMEK_SZAM\r\n",
                "GROUP BY SZOBA_FK\r\n",
                "HAVING COUNT(FOGLALAS_PK) > 1\r\n",
                "ORDER BY COUNT(FOGLALAS_PK) \r\n",
                ""
            ],
            "metadata": {
                "azdata_cell_guid": "60093c82-b057-4480-9386-441f0c3806a9",
                "language": "sql"
            },
            "outputs": [
                {
                    "output_type": "display_data",
                    "data": {
                        "text/html": "(165 rows affected)"
                    },
                    "metadata": {}
                },
                {
                    "output_type": "display_data",
                    "data": {
                        "text/html": "Total execution time: 00:00:00.007"
                    },
                    "metadata": {}
                },
                {
                    "output_type": "execute_result",
                    "metadata": {},
                    "execution_count": 8,
                    "data": {
                        "application/vnd.dataresource+json": {
                            "schema": {
                                "fields": [
                                    {
                                        "name": "Szoba"
                                    },
                                    {
                                        "name": "Foglalások száma"
                                    }
                                ]
                            },
                            "data": [
                                {
                                    "Szoba": "2",
                                    "Foglalások száma": "2"
                                },
                                {
                                    "Szoba": "5",
                                    "Foglalások száma": "2"
                                },
                                {
                                    "Szoba": "17",
                                    "Foglalások száma": "2"
                                },
                                {
                                    "Szoba": "22",
                                    "Foglalások száma": "2"
                                },
                                {
                                    "Szoba": "30",
                                    "Foglalások száma": "2"
                                },
                                {
                                    "Szoba": "37",
                                    "Foglalások száma": "2"
                                },
                                {
                                    "Szoba": "47",
                                    "Foglalások száma": "2"
                                },
                                {
                                    "Szoba": "71",
                                    "Foglalások száma": "2"
                                },
                                {
                                    "Szoba": "72",
                                    "Foglalások száma": "2"
                                },
                                {
                                    "Szoba": "75",
                                    "Foglalások száma": "2"
                                },
                                {
                                    "Szoba": "76",
                                    "Foglalások száma": "2"
                                },
                                {
                                    "Szoba": "67",
                                    "Foglalások száma": "2"
                                },
                                {
                                    "Szoba": "69",
                                    "Foglalások száma": "2"
                                },
                                {
                                    "Szoba": "85",
                                    "Foglalások száma": "2"
                                },
                                {
                                    "Szoba": "91",
                                    "Foglalások száma": "2"
                                },
                                {
                                    "Szoba": "100",
                                    "Foglalások száma": "2"
                                },
                                {
                                    "Szoba": "109",
                                    "Foglalások száma": "2"
                                },
                                {
                                    "Szoba": "113",
                                    "Foglalások száma": "2"
                                },
                                {
                                    "Szoba": "118",
                                    "Foglalások száma": "2"
                                },
                                {
                                    "Szoba": "120",
                                    "Foglalások száma": "2"
                                },
                                {
                                    "Szoba": "136",
                                    "Foglalások száma": "2"
                                },
                                {
                                    "Szoba": "137",
                                    "Foglalások száma": "2"
                                },
                                {
                                    "Szoba": "144",
                                    "Foglalások száma": "2"
                                },
                                {
                                    "Szoba": "145",
                                    "Foglalások száma": "2"
                                },
                                {
                                    "Szoba": "151",
                                    "Foglalások száma": "2"
                                },
                                {
                                    "Szoba": "156",
                                    "Foglalások száma": "2"
                                },
                                {
                                    "Szoba": "157",
                                    "Foglalások száma": "2"
                                },
                                {
                                    "Szoba": "160",
                                    "Foglalások száma": "2"
                                },
                                {
                                    "Szoba": "162",
                                    "Foglalások száma": "2"
                                },
                                {
                                    "Szoba": "167",
                                    "Foglalások száma": "2"
                                },
                                {
                                    "Szoba": "176",
                                    "Foglalások száma": "2"
                                },
                                {
                                    "Szoba": "179",
                                    "Foglalások száma": "2"
                                },
                                {
                                    "Szoba": "188",
                                    "Foglalások száma": "2"
                                },
                                {
                                    "Szoba": "193",
                                    "Foglalások száma": "2"
                                },
                                {
                                    "Szoba": "196",
                                    "Foglalások száma": "2"
                                },
                                {
                                    "Szoba": "191",
                                    "Foglalások száma": "3"
                                },
                                {
                                    "Szoba": "183",
                                    "Foglalások száma": "3"
                                },
                                {
                                    "Szoba": "173",
                                    "Foglalások száma": "3"
                                },
                                {
                                    "Szoba": "166",
                                    "Foglalások száma": "3"
                                },
                                {
                                    "Szoba": "175",
                                    "Foglalások száma": "3"
                                },
                                {
                                    "Szoba": "169",
                                    "Foglalások száma": "3"
                                },
                                {
                                    "Szoba": "170",
                                    "Foglalások száma": "3"
                                },
                                {
                                    "Szoba": "161",
                                    "Foglalások száma": "3"
                                },
                                {
                                    "Szoba": "158",
                                    "Foglalások száma": "3"
                                },
                                {
                                    "Szoba": "152",
                                    "Foglalások száma": "3"
                                },
                                {
                                    "Szoba": "154",
                                    "Foglalások száma": "3"
                                },
                                {
                                    "Szoba": "155",
                                    "Foglalások száma": "3"
                                },
                                {
                                    "Szoba": "146",
                                    "Foglalások száma": "3"
                                },
                                {
                                    "Szoba": "135",
                                    "Foglalások száma": "3"
                                },
                                {
                                    "Szoba": "122",
                                    "Foglalások száma": "3"
                                },
                                {
                                    "Szoba": "129",
                                    "Foglalások száma": "3"
                                },
                                {
                                    "Szoba": "104",
                                    "Foglalások száma": "3"
                                },
                                {
                                    "Szoba": "90",
                                    "Foglalások száma": "3"
                                },
                                {
                                    "Szoba": "66",
                                    "Foglalások száma": "3"
                                },
                                {
                                    "Szoba": "84",
                                    "Foglalások száma": "3"
                                },
                                {
                                    "Szoba": "93",
                                    "Foglalások száma": "3"
                                },
                                {
                                    "Szoba": "95",
                                    "Foglalások száma": "3"
                                },
                                {
                                    "Szoba": "81",
                                    "Foglalások száma": "3"
                                },
                                {
                                    "Szoba": "77",
                                    "Foglalások száma": "3"
                                },
                                {
                                    "Szoba": "78",
                                    "Foglalások száma": "3"
                                },
                                {
                                    "Szoba": "50",
                                    "Foglalások száma": "3"
                                },
                                {
                                    "Szoba": "51",
                                    "Foglalások száma": "3"
                                },
                                {
                                    "Szoba": "46",
                                    "Foglalások száma": "3"
                                },
                                {
                                    "Szoba": "55",
                                    "Foglalások száma": "3"
                                },
                                {
                                    "Szoba": "57",
                                    "Foglalások száma": "3"
                                },
                                {
                                    "Szoba": "62",
                                    "Foglalások száma": "3"
                                },
                                {
                                    "Szoba": "63",
                                    "Foglalások száma": "3"
                                },
                                {
                                    "Szoba": "29",
                                    "Foglalások száma": "3"
                                },
                                {
                                    "Szoba": "40",
                                    "Foglalások száma": "3"
                                },
                                {
                                    "Szoba": "33",
                                    "Foglalások száma": "3"
                                },
                                {
                                    "Szoba": "34",
                                    "Foglalások száma": "3"
                                },
                                {
                                    "Szoba": "23",
                                    "Foglalások száma": "3"
                                },
                                {
                                    "Szoba": "24",
                                    "Foglalások száma": "3"
                                },
                                {
                                    "Szoba": "18",
                                    "Foglalások száma": "3"
                                },
                                {
                                    "Szoba": "14",
                                    "Foglalások száma": "3"
                                },
                                {
                                    "Szoba": "3",
                                    "Foglalások száma": "3"
                                },
                                {
                                    "Szoba": "9",
                                    "Foglalások száma": "4"
                                },
                                {
                                    "Szoba": "10",
                                    "Foglalások száma": "4"
                                },
                                {
                                    "Szoba": "11",
                                    "Foglalások száma": "4"
                                },
                                {
                                    "Szoba": "15",
                                    "Foglalások száma": "4"
                                },
                                {
                                    "Szoba": "19",
                                    "Foglalások száma": "4"
                                },
                                {
                                    "Szoba": "36",
                                    "Foglalások száma": "4"
                                },
                                {
                                    "Szoba": "39",
                                    "Foglalások száma": "4"
                                },
                                {
                                    "Szoba": "13",
                                    "Foglalások száma": "4"
                                },
                                {
                                    "Szoba": "59",
                                    "Foglalások száma": "4"
                                },
                                {
                                    "Szoba": "61",
                                    "Foglalások száma": "4"
                                },
                                {
                                    "Szoba": "54",
                                    "Foglalások száma": "4"
                                },
                                {
                                    "Szoba": "45",
                                    "Foglalások száma": "4"
                                },
                                {
                                    "Szoba": "43",
                                    "Foglalások száma": "4"
                                },
                                {
                                    "Szoba": "79",
                                    "Foglalások száma": "4"
                                },
                                {
                                    "Szoba": "73",
                                    "Foglalások száma": "4"
                                },
                                {
                                    "Szoba": "86",
                                    "Foglalások száma": "4"
                                },
                                {
                                    "Szoba": "98",
                                    "Foglalások száma": "4"
                                },
                                {
                                    "Szoba": "99",
                                    "Foglalások száma": "4"
                                },
                                {
                                    "Szoba": "106",
                                    "Foglalások száma": "4"
                                },
                                {
                                    "Szoba": "107",
                                    "Foglalások száma": "4"
                                },
                                {
                                    "Szoba": "124",
                                    "Foglalások száma": "4"
                                },
                                {
                                    "Szoba": "126",
                                    "Foglalások száma": "4"
                                },
                                {
                                    "Szoba": "119",
                                    "Foglalások száma": "4"
                                },
                                {
                                    "Szoba": "112",
                                    "Foglalások száma": "4"
                                },
                                {
                                    "Szoba": "117",
                                    "Foglalások száma": "4"
                                },
                                {
                                    "Szoba": "141",
                                    "Foglalások száma": "4"
                                },
                                {
                                    "Szoba": "131",
                                    "Foglalások száma": "4"
                                },
                                {
                                    "Szoba": "132",
                                    "Foglalások száma": "4"
                                },
                                {
                                    "Szoba": "133",
                                    "Foglalások száma": "4"
                                },
                                {
                                    "Szoba": "134",
                                    "Foglalások száma": "4"
                                },
                                {
                                    "Szoba": "153",
                                    "Foglalások száma": "4"
                                },
                                {
                                    "Szoba": "164",
                                    "Foglalások száma": "4"
                                },
                                {
                                    "Szoba": "174",
                                    "Foglalások száma": "4"
                                },
                                {
                                    "Szoba": "184",
                                    "Foglalások száma": "4"
                                },
                                {
                                    "Szoba": "190",
                                    "Foglalások száma": "5"
                                },
                                {
                                    "Szoba": "195",
                                    "Foglalások száma": "5"
                                },
                                {
                                    "Szoba": "181",
                                    "Foglalások száma": "5"
                                },
                                {
                                    "Szoba": "165",
                                    "Foglalások száma": "5"
                                },
                                {
                                    "Szoba": "163",
                                    "Foglalások száma": "5"
                                },
                                {
                                    "Szoba": "171",
                                    "Foglalások száma": "5"
                                },
                                {
                                    "Szoba": "138",
                                    "Foglalások száma": "5"
                                },
                                {
                                    "Szoba": "143",
                                    "Foglalások száma": "5"
                                },
                                {
                                    "Szoba": "140",
                                    "Foglalások száma": "5"
                                },
                                {
                                    "Szoba": "148",
                                    "Foglalások száma": "5"
                                },
                                {
                                    "Szoba": "149",
                                    "Foglalások száma": "5"
                                },
                                {
                                    "Szoba": "115",
                                    "Foglalások száma": "5"
                                },
                                {
                                    "Szoba": "110",
                                    "Foglalások száma": "5"
                                },
                                {
                                    "Szoba": "127",
                                    "Foglalások száma": "5"
                                },
                                {
                                    "Szoba": "130",
                                    "Foglalások száma": "5"
                                },
                                {
                                    "Szoba": "123",
                                    "Foglalások száma": "5"
                                },
                                {
                                    "Szoba": "121",
                                    "Foglalások száma": "5"
                                },
                                {
                                    "Szoba": "97",
                                    "Foglalások száma": "5"
                                },
                                {
                                    "Szoba": "92",
                                    "Foglalások száma": "5"
                                },
                                {
                                    "Szoba": "87",
                                    "Foglalások száma": "5"
                                },
                                {
                                    "Szoba": "88",
                                    "Foglalások száma": "5"
                                },
                                {
                                    "Szoba": "82",
                                    "Foglalások száma": "5"
                                },
                                {
                                    "Szoba": "83",
                                    "Foglalások száma": "5"
                                },
                                {
                                    "Szoba": "80",
                                    "Foglalások száma": "5"
                                },
                                {
                                    "Szoba": "52",
                                    "Foglalások száma": "5"
                                },
                                {
                                    "Szoba": "49",
                                    "Foglalások száma": "5"
                                },
                                {
                                    "Szoba": "64",
                                    "Foglalások száma": "5"
                                },
                                {
                                    "Szoba": "38",
                                    "Foglalások száma": "5"
                                },
                                {
                                    "Szoba": "42",
                                    "Foglalások száma": "5"
                                },
                                {
                                    "Szoba": "27",
                                    "Foglalások száma": "5"
                                },
                                {
                                    "Szoba": "28",
                                    "Foglalások száma": "5"
                                },
                                {
                                    "Szoba": "20",
                                    "Foglalások száma": "5"
                                },
                                {
                                    "Szoba": "8",
                                    "Foglalások száma": "5"
                                },
                                {
                                    "Szoba": "4",
                                    "Foglalások száma": "5"
                                },
                                {
                                    "Szoba": "6",
                                    "Foglalások száma": "5"
                                },
                                {
                                    "Szoba": "7",
                                    "Foglalások száma": "6"
                                },
                                {
                                    "Szoba": "35",
                                    "Foglalások száma": "6"
                                },
                                {
                                    "Szoba": "48",
                                    "Foglalások száma": "6"
                                },
                                {
                                    "Szoba": "44",
                                    "Foglalások száma": "6"
                                },
                                {
                                    "Szoba": "96",
                                    "Foglalások száma": "6"
                                },
                                {
                                    "Szoba": "94",
                                    "Foglalások száma": "6"
                                },
                                {
                                    "Szoba": "150",
                                    "Foglalások száma": "6"
                                },
                                {
                                    "Szoba": "139",
                                    "Foglalások száma": "6"
                                },
                                {
                                    "Szoba": "172",
                                    "Foglalások száma": "6"
                                },
                                {
                                    "Szoba": "187",
                                    "Foglalások száma": "6"
                                },
                                {
                                    "Szoba": "197",
                                    "Foglalások száma": "6"
                                },
                                {
                                    "Szoba": "198",
                                    "Foglalások száma": "7"
                                },
                                {
                                    "Szoba": "12",
                                    "Foglalások száma": "7"
                                },
                                {
                                    "Szoba": "1",
                                    "Foglalások száma": "7"
                                },
                                {
                                    "Szoba": "58",
                                    "Foglalások száma": "8"
                                },
                                {
                                    "Szoba": "74",
                                    "Foglalások száma": "8"
                                },
                                {
                                    "Szoba": "70",
                                    "Foglalások száma": "8"
                                },
                                {
                                    "Szoba": "89",
                                    "Foglalások száma": "8"
                                },
                                {
                                    "Szoba": "185",
                                    "Foglalások száma": "10"
                                },
                                {
                                    "Szoba": "182",
                                    "Foglalások száma": "11"
                                }
                            ]
                        },
                        "text/html": [
                            "<table>",
                            "<tr><th>Szoba</th><th>Foglalások száma</th></tr>",
                            "<tr><td>2</td><td>2</td></tr>",
                            "<tr><td>5</td><td>2</td></tr>",
                            "<tr><td>17</td><td>2</td></tr>",
                            "<tr><td>22</td><td>2</td></tr>",
                            "<tr><td>30</td><td>2</td></tr>",
                            "<tr><td>37</td><td>2</td></tr>",
                            "<tr><td>47</td><td>2</td></tr>",
                            "<tr><td>71</td><td>2</td></tr>",
                            "<tr><td>72</td><td>2</td></tr>",
                            "<tr><td>75</td><td>2</td></tr>",
                            "<tr><td>76</td><td>2</td></tr>",
                            "<tr><td>67</td><td>2</td></tr>",
                            "<tr><td>69</td><td>2</td></tr>",
                            "<tr><td>85</td><td>2</td></tr>",
                            "<tr><td>91</td><td>2</td></tr>",
                            "<tr><td>100</td><td>2</td></tr>",
                            "<tr><td>109</td><td>2</td></tr>",
                            "<tr><td>113</td><td>2</td></tr>",
                            "<tr><td>118</td><td>2</td></tr>",
                            "<tr><td>120</td><td>2</td></tr>",
                            "<tr><td>136</td><td>2</td></tr>",
                            "<tr><td>137</td><td>2</td></tr>",
                            "<tr><td>144</td><td>2</td></tr>",
                            "<tr><td>145</td><td>2</td></tr>",
                            "<tr><td>151</td><td>2</td></tr>",
                            "<tr><td>156</td><td>2</td></tr>",
                            "<tr><td>157</td><td>2</td></tr>",
                            "<tr><td>160</td><td>2</td></tr>",
                            "<tr><td>162</td><td>2</td></tr>",
                            "<tr><td>167</td><td>2</td></tr>",
                            "<tr><td>176</td><td>2</td></tr>",
                            "<tr><td>179</td><td>2</td></tr>",
                            "<tr><td>188</td><td>2</td></tr>",
                            "<tr><td>193</td><td>2</td></tr>",
                            "<tr><td>196</td><td>2</td></tr>",
                            "<tr><td>191</td><td>3</td></tr>",
                            "<tr><td>183</td><td>3</td></tr>",
                            "<tr><td>173</td><td>3</td></tr>",
                            "<tr><td>166</td><td>3</td></tr>",
                            "<tr><td>175</td><td>3</td></tr>",
                            "<tr><td>169</td><td>3</td></tr>",
                            "<tr><td>170</td><td>3</td></tr>",
                            "<tr><td>161</td><td>3</td></tr>",
                            "<tr><td>158</td><td>3</td></tr>",
                            "<tr><td>152</td><td>3</td></tr>",
                            "<tr><td>154</td><td>3</td></tr>",
                            "<tr><td>155</td><td>3</td></tr>",
                            "<tr><td>146</td><td>3</td></tr>",
                            "<tr><td>135</td><td>3</td></tr>",
                            "<tr><td>122</td><td>3</td></tr>",
                            "<tr><td>129</td><td>3</td></tr>",
                            "<tr><td>104</td><td>3</td></tr>",
                            "<tr><td>90</td><td>3</td></tr>",
                            "<tr><td>66</td><td>3</td></tr>",
                            "<tr><td>84</td><td>3</td></tr>",
                            "<tr><td>93</td><td>3</td></tr>",
                            "<tr><td>95</td><td>3</td></tr>",
                            "<tr><td>81</td><td>3</td></tr>",
                            "<tr><td>77</td><td>3</td></tr>",
                            "<tr><td>78</td><td>3</td></tr>",
                            "<tr><td>50</td><td>3</td></tr>",
                            "<tr><td>51</td><td>3</td></tr>",
                            "<tr><td>46</td><td>3</td></tr>",
                            "<tr><td>55</td><td>3</td></tr>",
                            "<tr><td>57</td><td>3</td></tr>",
                            "<tr><td>62</td><td>3</td></tr>",
                            "<tr><td>63</td><td>3</td></tr>",
                            "<tr><td>29</td><td>3</td></tr>",
                            "<tr><td>40</td><td>3</td></tr>",
                            "<tr><td>33</td><td>3</td></tr>",
                            "<tr><td>34</td><td>3</td></tr>",
                            "<tr><td>23</td><td>3</td></tr>",
                            "<tr><td>24</td><td>3</td></tr>",
                            "<tr><td>18</td><td>3</td></tr>",
                            "<tr><td>14</td><td>3</td></tr>",
                            "<tr><td>3</td><td>3</td></tr>",
                            "<tr><td>9</td><td>4</td></tr>",
                            "<tr><td>10</td><td>4</td></tr>",
                            "<tr><td>11</td><td>4</td></tr>",
                            "<tr><td>15</td><td>4</td></tr>",
                            "<tr><td>19</td><td>4</td></tr>",
                            "<tr><td>36</td><td>4</td></tr>",
                            "<tr><td>39</td><td>4</td></tr>",
                            "<tr><td>13</td><td>4</td></tr>",
                            "<tr><td>59</td><td>4</td></tr>",
                            "<tr><td>61</td><td>4</td></tr>",
                            "<tr><td>54</td><td>4</td></tr>",
                            "<tr><td>45</td><td>4</td></tr>",
                            "<tr><td>43</td><td>4</td></tr>",
                            "<tr><td>79</td><td>4</td></tr>",
                            "<tr><td>73</td><td>4</td></tr>",
                            "<tr><td>86</td><td>4</td></tr>",
                            "<tr><td>98</td><td>4</td></tr>",
                            "<tr><td>99</td><td>4</td></tr>",
                            "<tr><td>106</td><td>4</td></tr>",
                            "<tr><td>107</td><td>4</td></tr>",
                            "<tr><td>124</td><td>4</td></tr>",
                            "<tr><td>126</td><td>4</td></tr>",
                            "<tr><td>119</td><td>4</td></tr>",
                            "<tr><td>112</td><td>4</td></tr>",
                            "<tr><td>117</td><td>4</td></tr>",
                            "<tr><td>141</td><td>4</td></tr>",
                            "<tr><td>131</td><td>4</td></tr>",
                            "<tr><td>132</td><td>4</td></tr>",
                            "<tr><td>133</td><td>4</td></tr>",
                            "<tr><td>134</td><td>4</td></tr>",
                            "<tr><td>153</td><td>4</td></tr>",
                            "<tr><td>164</td><td>4</td></tr>",
                            "<tr><td>174</td><td>4</td></tr>",
                            "<tr><td>184</td><td>4</td></tr>",
                            "<tr><td>190</td><td>5</td></tr>",
                            "<tr><td>195</td><td>5</td></tr>",
                            "<tr><td>181</td><td>5</td></tr>",
                            "<tr><td>165</td><td>5</td></tr>",
                            "<tr><td>163</td><td>5</td></tr>",
                            "<tr><td>171</td><td>5</td></tr>",
                            "<tr><td>138</td><td>5</td></tr>",
                            "<tr><td>143</td><td>5</td></tr>",
                            "<tr><td>140</td><td>5</td></tr>",
                            "<tr><td>148</td><td>5</td></tr>",
                            "<tr><td>149</td><td>5</td></tr>",
                            "<tr><td>115</td><td>5</td></tr>",
                            "<tr><td>110</td><td>5</td></tr>",
                            "<tr><td>127</td><td>5</td></tr>",
                            "<tr><td>130</td><td>5</td></tr>",
                            "<tr><td>123</td><td>5</td></tr>",
                            "<tr><td>121</td><td>5</td></tr>",
                            "<tr><td>97</td><td>5</td></tr>",
                            "<tr><td>92</td><td>5</td></tr>",
                            "<tr><td>87</td><td>5</td></tr>",
                            "<tr><td>88</td><td>5</td></tr>",
                            "<tr><td>82</td><td>5</td></tr>",
                            "<tr><td>83</td><td>5</td></tr>",
                            "<tr><td>80</td><td>5</td></tr>",
                            "<tr><td>52</td><td>5</td></tr>",
                            "<tr><td>49</td><td>5</td></tr>",
                            "<tr><td>64</td><td>5</td></tr>",
                            "<tr><td>38</td><td>5</td></tr>",
                            "<tr><td>42</td><td>5</td></tr>",
                            "<tr><td>27</td><td>5</td></tr>",
                            "<tr><td>28</td><td>5</td></tr>",
                            "<tr><td>20</td><td>5</td></tr>",
                            "<tr><td>8</td><td>5</td></tr>",
                            "<tr><td>4</td><td>5</td></tr>",
                            "<tr><td>6</td><td>5</td></tr>",
                            "<tr><td>7</td><td>6</td></tr>",
                            "<tr><td>35</td><td>6</td></tr>",
                            "<tr><td>48</td><td>6</td></tr>",
                            "<tr><td>44</td><td>6</td></tr>",
                            "<tr><td>96</td><td>6</td></tr>",
                            "<tr><td>94</td><td>6</td></tr>",
                            "<tr><td>150</td><td>6</td></tr>",
                            "<tr><td>139</td><td>6</td></tr>",
                            "<tr><td>172</td><td>6</td></tr>",
                            "<tr><td>187</td><td>6</td></tr>",
                            "<tr><td>197</td><td>6</td></tr>",
                            "<tr><td>198</td><td>7</td></tr>",
                            "<tr><td>12</td><td>7</td></tr>",
                            "<tr><td>1</td><td>7</td></tr>",
                            "<tr><td>58</td><td>8</td></tr>",
                            "<tr><td>74</td><td>8</td></tr>",
                            "<tr><td>70</td><td>8</td></tr>",
                            "<tr><td>89</td><td>8</td></tr>",
                            "<tr><td>185</td><td>10</td></tr>",
                            "<tr><td>182</td><td>11</td></tr>",
                            "</table>"
                        ]
                    }
                }
            ],
            "execution_count": 8
        },
        {
            "cell_type": "code",
            "source": [
                "--2. feladat megoldása\r\n",
                "\r\n",
                "SELECT SZALLAS_NEV AS \"Szállás neve\", COUNT(FOGLALAS_PK) AS \"Foglalások száma\"\r\n",
                "FROM Szoba sz JOIN Szallashely szh on sz.SZALLAS_FK = szh.SZALLAS_ID \r\n",
                "        Left JOIN Foglalas f ON sz.SZOBA_ID = f.SZOBA_FK\r\n",
                "GROUP BY SZALLAS_NEV \r\n",
                "\r\n",
                ""
            ],
            "metadata": {
                "azdata_cell_guid": "1521bf84-442e-4731-9a6f-a80fe9a18675",
                "language": "sql",
                "tags": []
            },
            "outputs": [
                {
                    "output_type": "display_data",
                    "data": {
                        "text/html": "Warning: Null value is eliminated by an aggregate or other SET operation."
                    },
                    "metadata": {}
                },
                {
                    "output_type": "display_data",
                    "data": {
                        "text/html": "(17 rows affected)"
                    },
                    "metadata": {}
                },
                {
                    "output_type": "display_data",
                    "data": {
                        "text/html": "Total execution time: 00:00:00.011"
                    },
                    "metadata": {}
                },
                {
                    "output_type": "execute_result",
                    "metadata": {},
                    "execution_count": 23,
                    "data": {
                        "application/vnd.dataresource+json": {
                            "schema": {
                                "fields": [
                                    {
                                        "name": "Szállás neve"
                                    },
                                    {
                                        "name": "Foglalások száma"
                                    }
                                ]
                            },
                            "data": [
                                {
                                    "Szállás neve": "Szieszta Apartmanház",
                                    "Foglalások száma": "34"
                                },
                                {
                                    "Szállás neve": "Fortuna panzió",
                                    "Foglalások száma": "126"
                                },
                                {
                                    "Szállás neve": "Nyárfás Vendégház",
                                    "Foglalások száma": "0"
                                },
                                {
                                    "Szállás neve": "Kentaur Hotel",
                                    "Foglalások száma": "179"
                                },
                                {
                                    "Szállás neve": "Partiszél Vendégház",
                                    "Foglalások száma": "26"
                                },
                                {
                                    "Szállás neve": "Riviéra Panzió",
                                    "Foglalások száma": "0"
                                },
                                {
                                    "Szállás neve": "Sába-Ház",
                                    "Foglalások száma": "70"
                                },
                                {
                                    "Szállás neve": "Tímárház Panzió",
                                    "Foglalások száma": "0"
                                },
                                {
                                    "Szállás neve": "Bagoly Hotel",
                                    "Foglalások száma": "0"
                                },
                                {
                                    "Szállás neve": "Családi Ház",
                                    "Foglalások száma": "18"
                                },
                                {
                                    "Szállás neve": "Fortuna Apartman",
                                    "Foglalások száma": "39"
                                },
                                {
                                    "Szállás neve": "Szarvas Hotel",
                                    "Foglalások száma": "0"
                                },
                                {
                                    "Szállás neve": "Hotel Három Hattyú",
                                    "Foglalások száma": "204"
                                },
                                {
                                    "Szállás neve": "Jáde panzió",
                                    "Foglalások száma": "29"
                                },
                                {
                                    "Szállás neve": "Lagúna Hotel",
                                    "Foglalások száma": "123"
                                },
                                {
                                    "Szállás neve": "Gold Hotel",
                                    "Foglalások száma": "179"
                                },
                                {
                                    "Szállás neve": "Kollégium",
                                    "Foglalások száma": "0"
                                }
                            ]
                        },
                        "text/html": [
                            "<table>",
                            "<tr><th>Szállás neve</th><th>Foglalások száma</th></tr>",
                            "<tr><td>Szieszta Apartmanház</td><td>34</td></tr>",
                            "<tr><td>Fortuna panzió</td><td>126</td></tr>",
                            "<tr><td>Nyárfás Vendégház</td><td>0</td></tr>",
                            "<tr><td>Kentaur Hotel</td><td>179</td></tr>",
                            "<tr><td>Partiszél Vendégház</td><td>26</td></tr>",
                            "<tr><td>Riviéra Panzió</td><td>0</td></tr>",
                            "<tr><td>Sába-Ház</td><td>70</td></tr>",
                            "<tr><td>Tímárház Panzió</td><td>0</td></tr>",
                            "<tr><td>Bagoly Hotel</td><td>0</td></tr>",
                            "<tr><td>Családi Ház</td><td>18</td></tr>",
                            "<tr><td>Fortuna Apartman</td><td>39</td></tr>",
                            "<tr><td>Szarvas Hotel</td><td>0</td></tr>",
                            "<tr><td>Hotel Három Hattyú</td><td>204</td></tr>",
                            "<tr><td>Jáde panzió</td><td>29</td></tr>",
                            "<tr><td>Lagúna Hotel</td><td>123</td></tr>",
                            "<tr><td>Gold Hotel</td><td>179</td></tr>",
                            "<tr><td>Kollégium</td><td>0</td></tr>",
                            "</table>"
                        ]
                    }
                }
            ],
            "execution_count": 23
        }
    ]
}