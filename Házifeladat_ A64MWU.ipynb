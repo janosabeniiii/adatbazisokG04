{
    "metadata": {
        "kernelspec": {
            "name": "SQL",
            "display_name": "SQL",
            "language": "sql"
        },
        "language_info": {
            "name": "sql",
            "version": ""
        }
    },
    "nbformat_minor": 2,
    "nbformat": 4,
    "cells": [
        {
            "cell_type": "code",
            "source": [
                "SELECT [LOGIN], COUNT(SORSZAM) AS \"Invalid SZállítási címek db\"\r\n",
                "FROM Rendeles\r\n",
                "WHERE SZALL_CIM IS NULL\r\n",
                "GROUP BY [LOGIN]"
            ],
            "metadata": {
                "azdata_cell_guid": "a0978c1e-6144-4211-8a5c-66627071f830",
                "language": "sql"
            },
            "outputs": [
                {
                    "output_type": "display_data",
                    "data": {
                        "text/html": "(191 rows affected)"
                    },
                    "metadata": {}
                },
                {
                    "output_type": "display_data",
                    "data": {
                        "text/html": "Total execution time: 00:00:00.061"
                    },
                    "metadata": {}
                },
                {
                    "output_type": "execute_result",
                    "metadata": {},
                    "execution_count": 21,
                    "data": {
                        "application/vnd.dataresource+json": {
                            "schema": {
                                "fields": [
                                    {
                                        "name": "LOGIN"
                                    },
                                    {
                                        "name": "Invalid SZállítási címek db"
                                    }
                                ]
                            },
                            "data": [
                                {
                                    "LOGIN": "ISTVANV",
                                    "Invalid SZállítási címek db": "17"
                                },
                                {
                                    "LOGIN": "aladar",
                                    "Invalid SZállítási címek db": "304"
                                },
                                {
                                    "LOGIN": "david4",
                                    "Invalid SZállítási címek db": "17"
                                },
                                {
                                    "LOGIN": "SZILARDS",
                                    "Invalid SZállítási címek db": "305"
                                },
                                {
                                    "LOGIN": "tibor",
                                    "Invalid SZállítási címek db": "315"
                                },
                                {
                                    "LOGIN": "ROBERTP",
                                    "Invalid SZállítási címek db": "21"
                                },
                                {
                                    "LOGIN": "BERNADETTO",
                                    "Invalid SZállítási címek db": "15"
                                },
                                {
                                    "LOGIN": "laszlo2",
                                    "Invalid SZállítási címek db": "20"
                                },
                                {
                                    "LOGIN": "sandor3",
                                    "Invalid SZállítási címek db": "12"
                                },
                                {
                                    "LOGIN": "pal",
                                    "Invalid SZállítási címek db": "338"
                                },
                                {
                                    "LOGIN": "ROBERTI",
                                    "Invalid SZállítási címek db": "8"
                                },
                                {
                                    "LOGIN": "ZSOLTJ",
                                    "Invalid SZállítási címek db": "16"
                                },
                                {
                                    "LOGIN": "roland1",
                                    "Invalid SZállítási címek db": "335"
                                },
                                {
                                    "LOGIN": "gabriella10",
                                    "Invalid SZállítási címek db": "14"
                                },
                                {
                                    "LOGIN": "ZSUZSAV",
                                    "Invalid SZállítási címek db": "327"
                                },
                                {
                                    "LOGIN": "brigitta",
                                    "Invalid SZállítási címek db": "309"
                                },
                                {
                                    "LOGIN": "JUDITH",
                                    "Invalid SZállítási címek db": "337"
                                },
                                {
                                    "LOGIN": "ANNAMARIAR",
                                    "Invalid SZállítási címek db": "10"
                                },
                                {
                                    "LOGIN": "aniko",
                                    "Invalid SZállítási címek db": "311"
                                },
                                {
                                    "LOGIN": "fruzsina4",
                                    "Invalid SZállítási címek db": "17"
                                },
                                {
                                    "LOGIN": "adam3",
                                    "Invalid SZállítási címek db": "14"
                                },
                                {
                                    "LOGIN": "vivien3",
                                    "Invalid SZállítási címek db": "16"
                                },
                                {
                                    "LOGIN": "tunde",
                                    "Invalid SZállítási címek db": "10"
                                },
                                {
                                    "LOGIN": "GYORGYO",
                                    "Invalid SZállítási címek db": "10"
                                },
                                {
                                    "LOGIN": "kata",
                                    "Invalid SZállítási címek db": "9"
                                },
                                {
                                    "LOGIN": "krisztina1",
                                    "Invalid SZállítási címek db": "12"
                                },
                                {
                                    "LOGIN": "eva2",
                                    "Invalid SZállítási címek db": "356"
                                },
                                {
                                    "LOGIN": "RENATAS",
                                    "Invalid SZállítási címek db": "10"
                                },
                                {
                                    "LOGIN": "daniel",
                                    "Invalid SZállítási címek db": "11"
                                },
                                {
                                    "LOGIN": "arpad2",
                                    "Invalid SZállítási címek db": "10"
                                },
                                {
                                    "LOGIN": "julianna4",
                                    "Invalid SZállítási címek db": "21"
                                },
                                {
                                    "LOGIN": "maria1",
                                    "Invalid SZállítási címek db": "7"
                                },
                                {
                                    "LOGIN": "gabor1",
                                    "Invalid SZállítási címek db": "16"
                                },
                                {
                                    "LOGIN": "MATYASS",
                                    "Invalid SZállítási címek db": "11"
                                },
                                {
                                    "LOGIN": "ATTILAO",
                                    "Invalid SZállítási címek db": "11"
                                },
                                {
                                    "LOGIN": "sandor",
                                    "Invalid SZállítási címek db": "15"
                                },
                                {
                                    "LOGIN": "MIKLOSB",
                                    "Invalid SZállítási címek db": "10"
                                },
                                {
                                    "LOGIN": "ANDREAT",
                                    "Invalid SZállítási címek db": "16"
                                },
                                {
                                    "LOGIN": "matyas2",
                                    "Invalid SZállítási címek db": "323"
                                },
                                {
                                    "LOGIN": "peter4",
                                    "Invalid SZállítási címek db": "678"
                                },
                                {
                                    "LOGIN": "tamas",
                                    "Invalid SZállítási címek db": "323"
                                },
                                {
                                    "LOGIN": "BENCEB",
                                    "Invalid SZállítási címek db": "11"
                                },
                                {
                                    "LOGIN": "andrea3",
                                    "Invalid SZállítási címek db": "323"
                                },
                                {
                                    "LOGIN": "RENATAK",
                                    "Invalid SZállítási címek db": "323"
                                },
                                {
                                    "LOGIN": "ANDRASE",
                                    "Invalid SZállítási címek db": "318"
                                },
                                {
                                    "LOGIN": "ARONK",
                                    "Invalid SZállítási címek db": "336"
                                },
                                {
                                    "LOGIN": "balazs3",
                                    "Invalid SZállítási címek db": "10"
                                },
                                {
                                    "LOGIN": "peter3",
                                    "Invalid SZállítási címek db": "21"
                                },
                                {
                                    "LOGIN": "jozsef2",
                                    "Invalid SZállítási címek db": "11"
                                },
                                {
                                    "LOGIN": "JANOSP",
                                    "Invalid SZállítási címek db": "10"
                                },
                                {
                                    "LOGIN": "akos",
                                    "Invalid SZállítási címek db": "315"
                                },
                                {
                                    "LOGIN": "adam4",
                                    "Invalid SZállítási címek db": "24"
                                },
                                {
                                    "LOGIN": "krisztina",
                                    "Invalid SZállítási címek db": "337"
                                },
                                {
                                    "LOGIN": "reka4",
                                    "Invalid SZállítási címek db": "15"
                                },
                                {
                                    "LOGIN": "peter1",
                                    "Invalid SZállítási címek db": "320"
                                },
                                {
                                    "LOGIN": "sebestyen",
                                    "Invalid SZállítási címek db": "13"
                                },
                                {
                                    "LOGIN": "csongor3",
                                    "Invalid SZállítási címek db": "11"
                                },
                                {
                                    "LOGIN": "andras4",
                                    "Invalid SZállítási címek db": "8"
                                },
                                {
                                    "LOGIN": "BEATRIXK",
                                    "Invalid SZállítási címek db": "345"
                                },
                                {
                                    "LOGIN": "attila4",
                                    "Invalid SZállítási címek db": "310"
                                },
                                {
                                    "LOGIN": "aniko4",
                                    "Invalid SZállítási címek db": "10"
                                },
                                {
                                    "LOGIN": "andras2",
                                    "Invalid SZállítási címek db": "13"
                                },
                                {
                                    "LOGIN": "AGNESH",
                                    "Invalid SZállítási címek db": "9"
                                },
                                {
                                    "LOGIN": "bence",
                                    "Invalid SZállítási címek db": "16"
                                },
                                {
                                    "LOGIN": "anita",
                                    "Invalid SZállítási címek db": "10"
                                },
                                {
                                    "LOGIN": "balint2",
                                    "Invalid SZállítási címek db": "12"
                                },
                                {
                                    "LOGIN": "dora3",
                                    "Invalid SZállítási címek db": "329"
                                },
                                {
                                    "LOGIN": "GYONGYIK",
                                    "Invalid SZállítási címek db": "13"
                                },
                                {
                                    "LOGIN": "agnes",
                                    "Invalid SZállítási címek db": "323"
                                },
                                {
                                    "LOGIN": "ANDRASN",
                                    "Invalid SZállítási címek db": "20"
                                },
                                {
                                    "LOGIN": "henrik3",
                                    "Invalid SZállítási címek db": "14"
                                },
                                {
                                    "LOGIN": "szabolcs",
                                    "Invalid SZállítási címek db": "367"
                                },
                                {
                                    "LOGIN": "alexandra",
                                    "Invalid SZállítási címek db": "16"
                                },
                                {
                                    "LOGIN": "GABORS",
                                    "Invalid SZállítási címek db": "11"
                                },
                                {
                                    "LOGIN": "laszlo1",
                                    "Invalid SZállítási címek db": "315"
                                },
                                {
                                    "LOGIN": "zsofi1",
                                    "Invalid SZállítási címek db": "14"
                                },
                                {
                                    "LOGIN": "BELAF",
                                    "Invalid SZállítási címek db": "11"
                                },
                                {
                                    "LOGIN": "gusztav",
                                    "Invalid SZállítási címek db": "12"
                                },
                                {
                                    "LOGIN": "zoltan",
                                    "Invalid SZállítási címek db": "13"
                                },
                                {
                                    "LOGIN": "TAMASF",
                                    "Invalid SZállítási címek db": "353"
                                },
                                {
                                    "LOGIN": "rajmond4",
                                    "Invalid SZállítási címek db": "11"
                                },
                                {
                                    "LOGIN": "dani",
                                    "Invalid SZállítási címek db": "10"
                                },
                                {
                                    "LOGIN": "janos3",
                                    "Invalid SZállítási címek db": "13"
                                },
                                {
                                    "LOGIN": "ANIKOS",
                                    "Invalid SZállítási címek db": "319"
                                },
                                {
                                    "LOGIN": "katalin",
                                    "Invalid SZállítási címek db": "14"
                                },
                                {
                                    "LOGIN": "bernadett1",
                                    "Invalid SZállítási címek db": "15"
                                },
                                {
                                    "LOGIN": "kriszti",
                                    "Invalid SZállítási címek db": "8"
                                },
                                {
                                    "LOGIN": "andras41",
                                    "Invalid SZállítási címek db": "328"
                                },
                                {
                                    "LOGIN": "EVAV",
                                    "Invalid SZállítási címek db": "5"
                                },
                                {
                                    "LOGIN": "adam1",
                                    "Invalid SZállítási címek db": "307"
                                },
                                {
                                    "LOGIN": "eszter2",
                                    "Invalid SZállítási címek db": "314"
                                },
                                {
                                    "LOGIN": "roland",
                                    "Invalid SZállítási címek db": "328"
                                },
                                {
                                    "LOGIN": "ilona3",
                                    "Invalid SZállítási címek db": "17"
                                },
                                {
                                    "LOGIN": "bertalan",
                                    "Invalid SZállítási címek db": "281"
                                },
                                {
                                    "LOGIN": "KRISZTIANM",
                                    "Invalid SZállítási címek db": "282"
                                },
                                {
                                    "LOGIN": "PETERB",
                                    "Invalid SZállítási címek db": "12"
                                },
                                {
                                    "LOGIN": "aron2",
                                    "Invalid SZállítási címek db": "326"
                                },
                                {
                                    "LOGIN": "balint1",
                                    "Invalid SZállítási címek db": "363"
                                },
                                {
                                    "LOGIN": "jozsef",
                                    "Invalid SZállítási címek db": "290"
                                },
                                {
                                    "LOGIN": "robert2",
                                    "Invalid SZállítási címek db": "12"
                                },
                                {
                                    "LOGIN": "edit",
                                    "Invalid SZállítási címek db": "13"
                                },
                                {
                                    "LOGIN": "norbert2",
                                    "Invalid SZállítási címek db": "10"
                                },
                                {
                                    "LOGIN": "polla",
                                    "Invalid SZállítási címek db": "16"
                                },
                                {
                                    "LOGIN": "JANOSG",
                                    "Invalid SZállítási címek db": "7"
                                },
                                {
                                    "LOGIN": "timea2",
                                    "Invalid SZállítási címek db": "13"
                                },
                                {
                                    "LOGIN": "zsuzsa3",
                                    "Invalid SZállítási címek db": "16"
                                },
                                {
                                    "LOGIN": "MATEK",
                                    "Invalid SZállítási címek db": "15"
                                },
                                {
                                    "LOGIN": "david1",
                                    "Invalid SZállítási címek db": "15"
                                },
                                {
                                    "LOGIN": "miklos2",
                                    "Invalid SZállítási címek db": "11"
                                },
                                {
                                    "LOGIN": "zsuzsanna",
                                    "Invalid SZállítási címek db": "10"
                                },
                                {
                                    "LOGIN": "tihamer",
                                    "Invalid SZállítási címek db": "15"
                                },
                                {
                                    "LOGIN": "kristof4",
                                    "Invalid SZállítási címek db": "17"
                                },
                                {
                                    "LOGIN": "nikolett3",
                                    "Invalid SZállítási címek db": "13"
                                },
                                {
                                    "LOGIN": "tibor2",
                                    "Invalid SZállítási címek db": "22"
                                },
                                {
                                    "LOGIN": "peter2",
                                    "Invalid SZállítási címek db": "12"
                                },
                                {
                                    "LOGIN": "ARPADM",
                                    "Invalid SZállítási címek db": "12"
                                },
                                {
                                    "LOGIN": "lajos",
                                    "Invalid SZállítási címek db": "13"
                                },
                                {
                                    "LOGIN": "NANDORF",
                                    "Invalid SZállítási címek db": "320"
                                },
                                {
                                    "LOGIN": "gabor4",
                                    "Invalid SZállítási címek db": "15"
                                },
                                {
                                    "LOGIN": "MIHALYJ",
                                    "Invalid SZállítási címek db": "10"
                                },
                                {
                                    "LOGIN": "marton",
                                    "Invalid SZállítási címek db": "12"
                                },
                                {
                                    "LOGIN": "andrea4",
                                    "Invalid SZállítási címek db": "14"
                                },
                                {
                                    "LOGIN": "balint",
                                    "Invalid SZállítási címek db": "13"
                                },
                                {
                                    "LOGIN": "norbert4",
                                    "Invalid SZállítási címek db": "11"
                                },
                                {
                                    "LOGIN": "veronika4",
                                    "Invalid SZállítási címek db": "10"
                                },
                                {
                                    "LOGIN": "kati",
                                    "Invalid SZállítási címek db": "8"
                                },
                                {
                                    "LOGIN": "istvan",
                                    "Invalid SZállítási címek db": "8"
                                },
                                {
                                    "LOGIN": "ARPADH",
                                    "Invalid SZállítási címek db": "9"
                                },
                                {
                                    "LOGIN": "andrea",
                                    "Invalid SZállítási címek db": "20"
                                },
                                {
                                    "LOGIN": "roza2",
                                    "Invalid SZállítási címek db": "5"
                                },
                                {
                                    "LOGIN": "sara",
                                    "Invalid SZállítási címek db": "15"
                                },
                                {
                                    "LOGIN": "balazs2",
                                    "Invalid SZállítási címek db": "15"
                                },
                                {
                                    "LOGIN": "VIKTORK",
                                    "Invalid SZállítási címek db": "16"
                                },
                                {
                                    "LOGIN": "lala",
                                    "Invalid SZállítási címek db": "12"
                                },
                                {
                                    "LOGIN": "eszter4",
                                    "Invalid SZállítási címek db": "326"
                                },
                                {
                                    "LOGIN": "VIKTORIAU",
                                    "Invalid SZállítási címek db": "11"
                                },
                                {
                                    "LOGIN": "annamaria1",
                                    "Invalid SZállítási címek db": "12"
                                },
                                {
                                    "LOGIN": "istvan1",
                                    "Invalid SZállítási címek db": "15"
                                },
                                {
                                    "LOGIN": "julia4",
                                    "Invalid SZállítási címek db": "10"
                                },
                                {
                                    "LOGIN": "bernadett2",
                                    "Invalid SZállítási címek db": "11"
                                },
                                {
                                    "LOGIN": "david",
                                    "Invalid SZállítási címek db": "346"
                                },
                                {
                                    "LOGIN": "eva",
                                    "Invalid SZállítási címek db": "317"
                                },
                                {
                                    "LOGIN": "attila1",
                                    "Invalid SZállítási címek db": "16"
                                },
                                {
                                    "LOGIN": "denes",
                                    "Invalid SZállítási címek db": "9"
                                },
                                {
                                    "LOGIN": "balazs1",
                                    "Invalid SZállítási címek db": "324"
                                },
                                {
                                    "LOGIN": "zoltan4",
                                    "Invalid SZállítási címek db": "325"
                                },
                                {
                                    "LOGIN": "balu",
                                    "Invalid SZállítási címek db": "298"
                                },
                                {
                                    "LOGIN": "SZABOLCSM",
                                    "Invalid SZállítási címek db": "292"
                                },
                                {
                                    "LOGIN": "katalin4",
                                    "Invalid SZállítási címek db": "18"
                                },
                                {
                                    "LOGIN": "ZOLTANP",
                                    "Invalid SZállítási címek db": "10"
                                },
                                {
                                    "LOGIN": "daniel1",
                                    "Invalid SZállítási címek db": "336"
                                },
                                {
                                    "LOGIN": "andi",
                                    "Invalid SZállítási címek db": "15"
                                },
                                {
                                    "LOGIN": "timea",
                                    "Invalid SZállítási címek db": "38"
                                },
                                {
                                    "LOGIN": "andras3",
                                    "Invalid SZállítási címek db": "7"
                                },
                                {
                                    "LOGIN": "nikoletta4",
                                    "Invalid SZállítási címek db": "307"
                                },
                                {
                                    "LOGIN": "imre1",
                                    "Invalid SZállítási címek db": "14"
                                },
                                {
                                    "LOGIN": "LASZLON",
                                    "Invalid SZállítási címek db": "306"
                                },
                                {
                                    "LOGIN": "sandor4",
                                    "Invalid SZállítási címek db": "8"
                                },
                                {
                                    "LOGIN": "andras21",
                                    "Invalid SZállítási címek db": "289"
                                },
                                {
                                    "LOGIN": "zsuzsa",
                                    "Invalid SZállítási címek db": "15"
                                },
                                {
                                    "LOGIN": "kornel4",
                                    "Invalid SZállítási címek db": "8"
                                },
                                {
                                    "LOGIN": "ESZTERE",
                                    "Invalid SZállítási címek db": "19"
                                },
                                {
                                    "LOGIN": "anett3",
                                    "Invalid SZállítási címek db": "16"
                                },
                                {
                                    "LOGIN": "klaudia2",
                                    "Invalid SZállítási címek db": "11"
                                },
                                {
                                    "LOGIN": "agnes3",
                                    "Invalid SZállítási címek db": "338"
                                },
                                {
                                    "LOGIN": "gabriella1",
                                    "Invalid SZállítási címek db": "12"
                                },
                                {
                                    "LOGIN": "krisztian4",
                                    "Invalid SZállítási címek db": "12"
                                },
                                {
                                    "LOGIN": "ferenc1",
                                    "Invalid SZállítási címek db": "345"
                                },
                                {
                                    "LOGIN": "zsolt1",
                                    "Invalid SZállítási címek db": "14"
                                },
                                {
                                    "LOGIN": "brigitta3",
                                    "Invalid SZállítási címek db": "299"
                                },
                                {
                                    "LOGIN": "ZOLTANT",
                                    "Invalid SZállítási címek db": "284"
                                },
                                {
                                    "LOGIN": "imre",
                                    "Invalid SZállítási címek db": "12"
                                },
                                {
                                    "LOGIN": "valentin",
                                    "Invalid SZállítási címek db": "10"
                                },
                                {
                                    "LOGIN": "AGNESK",
                                    "Invalid SZállítási címek db": "13"
                                },
                                {
                                    "LOGIN": "szilvia1",
                                    "Invalid SZállítási címek db": "343"
                                },
                                {
                                    "LOGIN": "MARKH",
                                    "Invalid SZállítási címek db": "300"
                                },
                                {
                                    "LOGIN": "SEBASTIANF",
                                    "Invalid SZállítási címek db": "14"
                                },
                                {
                                    "LOGIN": "JOZSEFG",
                                    "Invalid SZállítási címek db": "18"
                                },
                                {
                                    "LOGIN": "KRISZTINAG",
                                    "Invalid SZállítási címek db": "17"
                                },
                                {
                                    "LOGIN": "georgij",
                                    "Invalid SZállítási címek db": "13"
                                },
                                {
                                    "LOGIN": "debora",
                                    "Invalid SZállítási címek db": "12"
                                },
                                {
                                    "LOGIN": "emese",
                                    "Invalid SZállítási címek db": "316"
                                },
                                {
                                    "LOGIN": "IBOLYAA",
                                    "Invalid SZállítási címek db": "323"
                                },
                                {
                                    "LOGIN": "MONIKAM",
                                    "Invalid SZállítási címek db": "327"
                                },
                                {
                                    "LOGIN": "tamara2",
                                    "Invalid SZállítási címek db": "9"
                                },
                                {
                                    "LOGIN": "katka",
                                    "Invalid SZállítási címek db": "18"
                                },
                                {
                                    "LOGIN": "norbert5",
                                    "Invalid SZállítási címek db": "12"
                                },
                                {
                                    "LOGIN": "LASZLOA",
                                    "Invalid SZállítási címek db": "343"
                                },
                                {
                                    "LOGIN": "julia",
                                    "Invalid SZállítási címek db": "333"
                                },
                                {
                                    "LOGIN": "NIKOLETTAT",
                                    "Invalid SZállítási címek db": "17"
                                },
                                {
                                    "LOGIN": "BEATRIXS",
                                    "Invalid SZállítási címek db": "329"
                                }
                            ]
                        },
                        "text/html": [
                            "<table>",
                            "<tr><th>LOGIN</th><th>Invalid SZállítási címek db</th></tr>",
                            "<tr><td>ISTVANV</td><td>17</td></tr>",
                            "<tr><td>aladar</td><td>304</td></tr>",
                            "<tr><td>david4</td><td>17</td></tr>",
                            "<tr><td>SZILARDS</td><td>305</td></tr>",
                            "<tr><td>tibor</td><td>315</td></tr>",
                            "<tr><td>ROBERTP</td><td>21</td></tr>",
                            "<tr><td>BERNADETTO</td><td>15</td></tr>",
                            "<tr><td>laszlo2</td><td>20</td></tr>",
                            "<tr><td>sandor3</td><td>12</td></tr>",
                            "<tr><td>pal</td><td>338</td></tr>",
                            "<tr><td>ROBERTI</td><td>8</td></tr>",
                            "<tr><td>ZSOLTJ</td><td>16</td></tr>",
                            "<tr><td>roland1</td><td>335</td></tr>",
                            "<tr><td>gabriella10</td><td>14</td></tr>",
                            "<tr><td>ZSUZSAV</td><td>327</td></tr>",
                            "<tr><td>brigitta</td><td>309</td></tr>",
                            "<tr><td>JUDITH</td><td>337</td></tr>",
                            "<tr><td>ANNAMARIAR</td><td>10</td></tr>",
                            "<tr><td>aniko</td><td>311</td></tr>",
                            "<tr><td>fruzsina4</td><td>17</td></tr>",
                            "<tr><td>adam3</td><td>14</td></tr>",
                            "<tr><td>vivien3</td><td>16</td></tr>",
                            "<tr><td>tunde</td><td>10</td></tr>",
                            "<tr><td>GYORGYO</td><td>10</td></tr>",
                            "<tr><td>kata</td><td>9</td></tr>",
                            "<tr><td>krisztina1</td><td>12</td></tr>",
                            "<tr><td>eva2</td><td>356</td></tr>",
                            "<tr><td>RENATAS</td><td>10</td></tr>",
                            "<tr><td>daniel</td><td>11</td></tr>",
                            "<tr><td>arpad2</td><td>10</td></tr>",
                            "<tr><td>julianna4</td><td>21</td></tr>",
                            "<tr><td>maria1</td><td>7</td></tr>",
                            "<tr><td>gabor1</td><td>16</td></tr>",
                            "<tr><td>MATYASS</td><td>11</td></tr>",
                            "<tr><td>ATTILAO</td><td>11</td></tr>",
                            "<tr><td>sandor</td><td>15</td></tr>",
                            "<tr><td>MIKLOSB</td><td>10</td></tr>",
                            "<tr><td>ANDREAT</td><td>16</td></tr>",
                            "<tr><td>matyas2</td><td>323</td></tr>",
                            "<tr><td>peter4</td><td>678</td></tr>",
                            "<tr><td>tamas</td><td>323</td></tr>",
                            "<tr><td>BENCEB</td><td>11</td></tr>",
                            "<tr><td>andrea3</td><td>323</td></tr>",
                            "<tr><td>RENATAK</td><td>323</td></tr>",
                            "<tr><td>ANDRASE</td><td>318</td></tr>",
                            "<tr><td>ARONK</td><td>336</td></tr>",
                            "<tr><td>balazs3</td><td>10</td></tr>",
                            "<tr><td>peter3</td><td>21</td></tr>",
                            "<tr><td>jozsef2</td><td>11</td></tr>",
                            "<tr><td>JANOSP</td><td>10</td></tr>",
                            "<tr><td>akos</td><td>315</td></tr>",
                            "<tr><td>adam4</td><td>24</td></tr>",
                            "<tr><td>krisztina</td><td>337</td></tr>",
                            "<tr><td>reka4</td><td>15</td></tr>",
                            "<tr><td>peter1</td><td>320</td></tr>",
                            "<tr><td>sebestyen</td><td>13</td></tr>",
                            "<tr><td>csongor3</td><td>11</td></tr>",
                            "<tr><td>andras4</td><td>8</td></tr>",
                            "<tr><td>BEATRIXK</td><td>345</td></tr>",
                            "<tr><td>attila4</td><td>310</td></tr>",
                            "<tr><td>aniko4</td><td>10</td></tr>",
                            "<tr><td>andras2</td><td>13</td></tr>",
                            "<tr><td>AGNESH</td><td>9</td></tr>",
                            "<tr><td>bence</td><td>16</td></tr>",
                            "<tr><td>anita</td><td>10</td></tr>",
                            "<tr><td>balint2</td><td>12</td></tr>",
                            "<tr><td>dora3</td><td>329</td></tr>",
                            "<tr><td>GYONGYIK</td><td>13</td></tr>",
                            "<tr><td>agnes</td><td>323</td></tr>",
                            "<tr><td>ANDRASN</td><td>20</td></tr>",
                            "<tr><td>henrik3</td><td>14</td></tr>",
                            "<tr><td>szabolcs</td><td>367</td></tr>",
                            "<tr><td>alexandra</td><td>16</td></tr>",
                            "<tr><td>GABORS</td><td>11</td></tr>",
                            "<tr><td>laszlo1</td><td>315</td></tr>",
                            "<tr><td>zsofi1</td><td>14</td></tr>",
                            "<tr><td>BELAF</td><td>11</td></tr>",
                            "<tr><td>gusztav</td><td>12</td></tr>",
                            "<tr><td>zoltan</td><td>13</td></tr>",
                            "<tr><td>TAMASF</td><td>353</td></tr>",
                            "<tr><td>rajmond4</td><td>11</td></tr>",
                            "<tr><td>dani</td><td>10</td></tr>",
                            "<tr><td>janos3</td><td>13</td></tr>",
                            "<tr><td>ANIKOS</td><td>319</td></tr>",
                            "<tr><td>katalin</td><td>14</td></tr>",
                            "<tr><td>bernadett1</td><td>15</td></tr>",
                            "<tr><td>kriszti</td><td>8</td></tr>",
                            "<tr><td>andras41</td><td>328</td></tr>",
                            "<tr><td>EVAV</td><td>5</td></tr>",
                            "<tr><td>adam1</td><td>307</td></tr>",
                            "<tr><td>eszter2</td><td>314</td></tr>",
                            "<tr><td>roland</td><td>328</td></tr>",
                            "<tr><td>ilona3</td><td>17</td></tr>",
                            "<tr><td>bertalan</td><td>281</td></tr>",
                            "<tr><td>KRISZTIANM</td><td>282</td></tr>",
                            "<tr><td>PETERB</td><td>12</td></tr>",
                            "<tr><td>aron2</td><td>326</td></tr>",
                            "<tr><td>balint1</td><td>363</td></tr>",
                            "<tr><td>jozsef</td><td>290</td></tr>",
                            "<tr><td>robert2</td><td>12</td></tr>",
                            "<tr><td>edit</td><td>13</td></tr>",
                            "<tr><td>norbert2</td><td>10</td></tr>",
                            "<tr><td>polla</td><td>16</td></tr>",
                            "<tr><td>JANOSG</td><td>7</td></tr>",
                            "<tr><td>timea2</td><td>13</td></tr>",
                            "<tr><td>zsuzsa3</td><td>16</td></tr>",
                            "<tr><td>MATEK</td><td>15</td></tr>",
                            "<tr><td>david1</td><td>15</td></tr>",
                            "<tr><td>miklos2</td><td>11</td></tr>",
                            "<tr><td>zsuzsanna</td><td>10</td></tr>",
                            "<tr><td>tihamer</td><td>15</td></tr>",
                            "<tr><td>kristof4</td><td>17</td></tr>",
                            "<tr><td>nikolett3</td><td>13</td></tr>",
                            "<tr><td>tibor2</td><td>22</td></tr>",
                            "<tr><td>peter2</td><td>12</td></tr>",
                            "<tr><td>ARPADM</td><td>12</td></tr>",
                            "<tr><td>lajos</td><td>13</td></tr>",
                            "<tr><td>NANDORF</td><td>320</td></tr>",
                            "<tr><td>gabor4</td><td>15</td></tr>",
                            "<tr><td>MIHALYJ</td><td>10</td></tr>",
                            "<tr><td>marton</td><td>12</td></tr>",
                            "<tr><td>andrea4</td><td>14</td></tr>",
                            "<tr><td>balint</td><td>13</td></tr>",
                            "<tr><td>norbert4</td><td>11</td></tr>",
                            "<tr><td>veronika4</td><td>10</td></tr>",
                            "<tr><td>kati</td><td>8</td></tr>",
                            "<tr><td>istvan</td><td>8</td></tr>",
                            "<tr><td>ARPADH</td><td>9</td></tr>",
                            "<tr><td>andrea</td><td>20</td></tr>",
                            "<tr><td>roza2</td><td>5</td></tr>",
                            "<tr><td>sara</td><td>15</td></tr>",
                            "<tr><td>balazs2</td><td>15</td></tr>",
                            "<tr><td>VIKTORK</td><td>16</td></tr>",
                            "<tr><td>lala</td><td>12</td></tr>",
                            "<tr><td>eszter4</td><td>326</td></tr>",
                            "<tr><td>VIKTORIAU</td><td>11</td></tr>",
                            "<tr><td>annamaria1</td><td>12</td></tr>",
                            "<tr><td>istvan1</td><td>15</td></tr>",
                            "<tr><td>julia4</td><td>10</td></tr>",
                            "<tr><td>bernadett2</td><td>11</td></tr>",
                            "<tr><td>david</td><td>346</td></tr>",
                            "<tr><td>eva</td><td>317</td></tr>",
                            "<tr><td>attila1</td><td>16</td></tr>",
                            "<tr><td>denes</td><td>9</td></tr>",
                            "<tr><td>balazs1</td><td>324</td></tr>",
                            "<tr><td>zoltan4</td><td>325</td></tr>",
                            "<tr><td>balu</td><td>298</td></tr>",
                            "<tr><td>SZABOLCSM</td><td>292</td></tr>",
                            "<tr><td>katalin4</td><td>18</td></tr>",
                            "<tr><td>ZOLTANP</td><td>10</td></tr>",
                            "<tr><td>daniel1</td><td>336</td></tr>",
                            "<tr><td>andi</td><td>15</td></tr>",
                            "<tr><td>timea</td><td>38</td></tr>",
                            "<tr><td>andras3</td><td>7</td></tr>",
                            "<tr><td>nikoletta4</td><td>307</td></tr>",
                            "<tr><td>imre1</td><td>14</td></tr>",
                            "<tr><td>LASZLON</td><td>306</td></tr>",
                            "<tr><td>sandor4</td><td>8</td></tr>",
                            "<tr><td>andras21</td><td>289</td></tr>",
                            "<tr><td>zsuzsa</td><td>15</td></tr>",
                            "<tr><td>kornel4</td><td>8</td></tr>",
                            "<tr><td>ESZTERE</td><td>19</td></tr>",
                            "<tr><td>anett3</td><td>16</td></tr>",
                            "<tr><td>klaudia2</td><td>11</td></tr>",
                            "<tr><td>agnes3</td><td>338</td></tr>",
                            "<tr><td>gabriella1</td><td>12</td></tr>",
                            "<tr><td>krisztian4</td><td>12</td></tr>",
                            "<tr><td>ferenc1</td><td>345</td></tr>",
                            "<tr><td>zsolt1</td><td>14</td></tr>",
                            "<tr><td>brigitta3</td><td>299</td></tr>",
                            "<tr><td>ZOLTANT</td><td>284</td></tr>",
                            "<tr><td>imre</td><td>12</td></tr>",
                            "<tr><td>valentin</td><td>10</td></tr>",
                            "<tr><td>AGNESK</td><td>13</td></tr>",
                            "<tr><td>szilvia1</td><td>343</td></tr>",
                            "<tr><td>MARKH</td><td>300</td></tr>",
                            "<tr><td>SEBASTIANF</td><td>14</td></tr>",
                            "<tr><td>JOZSEFG</td><td>18</td></tr>",
                            "<tr><td>KRISZTINAG</td><td>17</td></tr>",
                            "<tr><td>georgij</td><td>13</td></tr>",
                            "<tr><td>debora</td><td>12</td></tr>",
                            "<tr><td>emese</td><td>316</td></tr>",
                            "<tr><td>IBOLYAA</td><td>323</td></tr>",
                            "<tr><td>MONIKAM</td><td>327</td></tr>",
                            "<tr><td>tamara2</td><td>9</td></tr>",
                            "<tr><td>katka</td><td>18</td></tr>",
                            "<tr><td>norbert5</td><td>12</td></tr>",
                            "<tr><td>LASZLOA</td><td>343</td></tr>",
                            "<tr><td>julia</td><td>333</td></tr>",
                            "<tr><td>NIKOLETTAT</td><td>17</td></tr>",
                            "<tr><td>BEATRIXS</td><td>329</td></tr>",
                            "</table>"
                        ]
                    }
                }
            ],
            "execution_count": 21
        },
        {
            "cell_type": "code",
            "source": [
                "SELECT TOP 1 [LOGIN], COUNT(SORSZAM)\r\n",
                "FROM Rendeles\r\n",
                "GROUP BY [LOGIN]\r\n",
                "ORDER BY COUNT(SORSZAM) DESC\r\n",
                ""
            ],
            "metadata": {
                "azdata_cell_guid": "8f99b596-cf33-4658-a48d-4cee793408cc",
                "language": "sql"
            },
            "outputs": [
                {
                    "output_type": "display_data",
                    "data": {
                        "text/html": "(1 row affected)"
                    },
                    "metadata": {}
                },
                {
                    "output_type": "display_data",
                    "data": {
                        "text/html": "Total execution time: 00:00:00.038"
                    },
                    "metadata": {}
                },
                {
                    "output_type": "execute_result",
                    "metadata": {},
                    "execution_count": 36,
                    "data": {
                        "application/vnd.dataresource+json": {
                            "schema": {
                                "fields": [
                                    {
                                        "name": "LOGIN"
                                    },
                                    {
                                        "name": "(No column name)"
                                    }
                                ]
                            },
                            "data": [
                                {
                                    "LOGIN": "peter4",
                                    "(No column name)": "852"
                                }
                            ]
                        },
                        "text/html": [
                            "<table>",
                            "<tr><th>LOGIN</th><th>(No column name)</th></tr>",
                            "<tr><td>peter4</td><td>852</td></tr>",
                            "</table>"
                        ]
                    }
                }
            ],
            "execution_count": 36
        },
        {
            "cell_type": "code",
            "source": [
                "SELECT TOP 10\r\n",
                "    REND_DATUM AS \"TOP 10 Legtöbb rendelés dátuma\", \r\n",
                "    COUNT(*) AS \"Rendelések száma\"\r\n",
                "from Rendeles\r\n",
                "WHERE REND_DATUM IS NOT null\r\n",
                "GROUP BY REND_DATUM\r\n",
                "ORDER BY COUNT(*) desc"
            ],
            "metadata": {
                "azdata_cell_guid": "fde98a9a-797e-444a-9fc2-2d9f83ee6869",
                "language": "sql"
            },
            "outputs": [
                {
                    "output_type": "display_data",
                    "data": {
                        "text/html": "(10 rows affected)"
                    },
                    "metadata": {}
                },
                {
                    "output_type": "display_data",
                    "data": {
                        "text/html": "Total execution time: 00:00:00.031"
                    },
                    "metadata": {}
                },
                {
                    "output_type": "execute_result",
                    "metadata": {},
                    "execution_count": 38,
                    "data": {
                        "application/vnd.dataresource+json": {
                            "schema": {
                                "fields": [
                                    {
                                        "name": "TOP 10 Legtöbb rendelés dátuma"
                                    },
                                    {
                                        "name": "Rendelések száma"
                                    }
                                ]
                            },
                            "data": [
                                {
                                    "TOP 10 Legtöbb rendelés dátuma": "2015-12-02",
                                    "Rendelések száma": "52"
                                },
                                {
                                    "TOP 10 Legtöbb rendelés dátuma": "2015-08-05",
                                    "Rendelések száma": "50"
                                },
                                {
                                    "TOP 10 Legtöbb rendelés dátuma": "2016-04-19",
                                    "Rendelések száma": "50"
                                },
                                {
                                    "TOP 10 Legtöbb rendelés dátuma": "2016-05-07",
                                    "Rendelések száma": "50"
                                },
                                {
                                    "TOP 10 Legtöbb rendelés dátuma": "2015-07-26",
                                    "Rendelések száma": "50"
                                },
                                {
                                    "TOP 10 Legtöbb rendelés dátuma": "2016-11-25",
                                    "Rendelések száma": "49"
                                },
                                {
                                    "TOP 10 Legtöbb rendelés dátuma": "2015-09-11",
                                    "Rendelések száma": "49"
                                },
                                {
                                    "TOP 10 Legtöbb rendelés dátuma": "2015-11-30",
                                    "Rendelések száma": "49"
                                },
                                {
                                    "TOP 10 Legtöbb rendelés dátuma": "2015-10-10",
                                    "Rendelések száma": "49"
                                },
                                {
                                    "TOP 10 Legtöbb rendelés dátuma": "2016-04-02",
                                    "Rendelések száma": "49"
                                }
                            ]
                        },
                        "text/html": [
                            "<table>",
                            "<tr><th>TOP 10 Legtöbb rendelés dátuma</th><th>Rendelések száma</th></tr>",
                            "<tr><td>2015-12-02</td><td>52</td></tr>",
                            "<tr><td>2015-08-05</td><td>50</td></tr>",
                            "<tr><td>2016-04-19</td><td>50</td></tr>",
                            "<tr><td>2016-05-07</td><td>50</td></tr>",
                            "<tr><td>2015-07-26</td><td>50</td></tr>",
                            "<tr><td>2016-11-25</td><td>49</td></tr>",
                            "<tr><td>2015-09-11</td><td>49</td></tr>",
                            "<tr><td>2015-11-30</td><td>49</td></tr>",
                            "<tr><td>2015-10-10</td><td>49</td></tr>",
                            "<tr><td>2016-04-02</td><td>49</td></tr>",
                            "</table>"
                        ]
                    }
                }
            ],
            "execution_count": 38
        }
    ]
}